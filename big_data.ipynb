{
  "nbformat": 4,
  "nbformat_minor": 0,
  "metadata": {
    "colab": {
      "provenance": []
    },
    "kernelspec": {
      "name": "python3",
      "display_name": "Python 3"
    },
    "language_info": {
      "name": "python"
    }
  },
  "cells": [
    {
      "cell_type": "markdown",
      "source": [
        "**Buscando variables**\n",
        "\n",
        "*  Con ayuda de la api del Banco Mundial busque cinco variables que considere que puedan explicar el bienestar de una población.\n",
        "*\tTome la información para el periodo 2002-2019.\n",
        "*\tÚnicamente tome los países de Suramérica, México, Estados Unidos, Canadá y Costa Rica.\n",
        "\n"
      ],
      "metadata": {
        "id": "T1eDVqnzyJSy"
      }
    },
    {
      "cell_type": "markdown",
      "source": [
        "Seleccionar las variables:\n",
        "\n",
        "1. PIB per cápita (Código: NY.GDP.PCAP.CD, Abreviatura: **PIB**)\n",
        "2. Esperanza de vida al nacer (Código: SP.DYN.LE00.IN, Abreviatura: **Esperanza**)\n",
        "3. Tasa de alfabetización de adultos (Código: SE.ADT.LITR.ZS, Abreviatura: **Alfabetización**)\n",
        "4. Ingreso nacional bruto (GNP) (Código: NY.GNP.MKTP.CD, Abreviatura: **GNP**)\n",
        "5. Tasa de mortalidad infantil (Código: SH.DYN.MORT, Abreviatura: **Mortalidad**)\n"
      ],
      "metadata": {
        "id": "X5-J4IJSr3DA"
      }
    },
    {
      "cell_type": "markdown",
      "source": [
        "Descarga de librerias\n",
        "1. wooldridge : conjunto de datos para prácticas y ejemplos de econometría y estadísticas.\n",
        "2. request    : es una biblioteca de Python que permite realizar solicitudes HTTP a través de Python de manera sencilla y eficiente.\n",
        "3. tabulate : es una biblioteca que facilita la formación de tablas a partir de datos en Python."
      ],
      "metadata": {
        "id": "Hod2zptEqjCu"
      }
    },
    {
      "cell_type": "code",
      "execution_count": 23,
      "metadata": {
        "colab": {
          "base_uri": "https://localhost:8080/"
        },
        "id": "baZquJAoqcun",
        "outputId": "a4de5717-23a4-44d7-f19f-ce87c0f77928"
      },
      "outputs": [
        {
          "output_type": "stream",
          "name": "stdout",
          "text": [
            "Requirement already satisfied: wooldridge in /usr/local/lib/python3.10/dist-packages (0.4.4)\n",
            "Requirement already satisfied: pandas in /usr/local/lib/python3.10/dist-packages (from wooldridge) (1.5.3)\n",
            "Requirement already satisfied: python-dateutil>=2.8.1 in /usr/local/lib/python3.10/dist-packages (from pandas->wooldridge) (2.8.2)\n",
            "Requirement already satisfied: pytz>=2020.1 in /usr/local/lib/python3.10/dist-packages (from pandas->wooldridge) (2023.3.post1)\n",
            "Requirement already satisfied: numpy>=1.21.0 in /usr/local/lib/python3.10/dist-packages (from pandas->wooldridge) (1.23.5)\n",
            "Requirement already satisfied: six>=1.5 in /usr/local/lib/python3.10/dist-packages (from python-dateutil>=2.8.1->pandas->wooldridge) (1.16.0)\n",
            "Requirement already satisfied: requests in /usr/local/lib/python3.10/dist-packages (2.31.0)\n",
            "Requirement already satisfied: charset-normalizer<4,>=2 in /usr/local/lib/python3.10/dist-packages (from requests) (3.2.0)\n",
            "Requirement already satisfied: idna<4,>=2.5 in /usr/local/lib/python3.10/dist-packages (from requests) (3.4)\n",
            "Requirement already satisfied: urllib3<3,>=1.21.1 in /usr/local/lib/python3.10/dist-packages (from requests) (2.0.4)\n",
            "Requirement already satisfied: certifi>=2017.4.17 in /usr/local/lib/python3.10/dist-packages (from requests) (2023.7.22)\n",
            "Requirement already satisfied: tabulate in /usr/local/lib/python3.10/dist-packages (0.9.0)\n"
          ]
        }
      ],
      "source": [
        "!pip install wooldridge\n",
        "!pip install requests\n",
        "!pip install tabulate\n",
        "\n",
        "\n",
        "\n",
        "\n"
      ]
    },
    {
      "cell_type": "markdown",
      "source": [
        "Importacion de librerias"
      ],
      "metadata": {
        "id": "QMKx-q3exolP"
      }
    },
    {
      "cell_type": "code",
      "source": [
        "import requests\n",
        "import pandas as pd"
      ],
      "metadata": {
        "id": "r-AUgLtWxoL3"
      },
      "execution_count": 27,
      "outputs": []
    },
    {
      "cell_type": "markdown",
      "source": [
        "Definicion de :\n",
        "* URL de la API del banco mundial donde se tomaran los datos\n",
        "* Codigo de pais asignado internacionalmente a **Venezuela** (***VE***)\n",
        "* Codigos para cada uno de los indicadores ( Variables ) de interes anteriormente asignados"
      ],
      "metadata": {
        "id": "NTcS85A7sKPB"
      }
    },
    {
      "cell_type": "code",
      "source": [
        "# Definir la URL base de la API del Banco Mundial\n",
        "url_base = \"https://api.worldbank.org/v2/\"\n",
        "\n",
        "# Definir el código de país para Venezuela\n",
        "pais = \"VE\"\n",
        "\n",
        "# Definir los códigos de indicadores para las variables de interés\n",
        "indicadores = [\n",
        "    {\"nombre\": \"PIB per cápita\", \"codigo\": \"NY.GDP.PCAP.CD\", \"abreviatura\": \"PIB\"},\n",
        "    {\"nombre\": \"Esperanza de vida al nacer\", \"codigo\": \"SP.DYN.LE00.IN\", \"abreviatura\": \"Esperanza\"},\n",
        "    {\"nombre\": \"Tasa de alfabetización de adultos\", \"codigo\": \"SE.ADT.LITR.ZS\", \"abreviatura\": \"Alfabetización\"},\n",
        "    {\"nombre\": \"Ingreso nacional bruto (GNP)\", \"codigo\": \"NY.GNP.MKTP.CD\", \"abreviatura\": \"GNP\"},\n",
        "    {\"nombre\": \"Tasa de mortalidad infantil\", \"codigo\": \"SH.DYN.MORT\", \"abreviatura\": \"Mortalidad\"}\n",
        "]"
      ],
      "metadata": {
        "id": "7q5vHqrezYMr"
      },
      "execution_count": 29,
      "outputs": []
    },
    {
      "cell_type": "markdown",
      "source": [
        "Creacion de funcion principal para obtencion de datos de la API del banco mundial, junto con su organizacion y posterior a eso la extraccion de los mismo para luego crear un DATAframe que los contenga."
      ],
      "metadata": {
        "id": "H7R5Z7WjzZj9"
      }
    },
    {
      "cell_type": "code",
      "source": [
        "# Crear una función para obtener datos de la API del Banco Mundial y organizarlos\n",
        "def obtener_datos(indicador_info):\n",
        "    url = f\"{url_base}country/{pais}/indicator/{indicador_info['codigo']}?format=json&date=2002:2019\"\n",
        "    response = requests.get(url)\n",
        "    datos = response.json()\n",
        "\n",
        "    # Extraer datos y crear un DataFrame con una única columna nombrada por el indicador\n",
        "    datos = {dato['date']: dato['value'] for dato in datos[1]}\n",
        "    df = pd.DataFrame.from_dict(datos, orient='index', columns=[indicador_info['abreviatura']])\n",
        "\n",
        "    return df"
      ],
      "metadata": {
        "id": "0vFEfd85zuXF"
      },
      "execution_count": 31,
      "outputs": []
    },
    {
      "cell_type": "markdown",
      "source": [
        "Obtencion de datos de las funciones anteriores para proceder a organizarlos en un solo DATAframe."
      ],
      "metadata": {
        "id": "MXzaVheFzxCJ"
      }
    },
    {
      "cell_type": "code",
      "source": [
        "# Obtener datos y organizarlos en un solo DataFrame\n",
        "datos_combinados = pd.concat([obtener_datos(indicador_info) for indicador_info in indicadores], axis=1)"
      ],
      "metadata": {
        "id": "ElyfGKNTz7Na"
      },
      "execution_count": 33,
      "outputs": []
    },
    {
      "cell_type": "markdown",
      "source": [
        "Para finalizar, se realiza el mapeo de los datos en una sola tabla, con su clasificacion correspondiente  :\n",
        " * Columna -> años.\n",
        " * Filas  -> indicadores.\n",
        " Luego de esto, en consola se muestran los resultados obtenidos de la API del banco mundial."
      ],
      "metadata": {
        "id": "2RwnyRPsz8hp"
      }
    },
    {
      "cell_type": "code",
      "source": [
        "\n",
        "# Mostrar la tabla horizontal con los años en la parte superior\n",
        "print(datos_combinados.T)\n"
      ],
      "metadata": {
        "colab": {
          "base_uri": "https://localhost:8080/"
        },
        "id": "6RRhvWkIr9Cf",
        "outputId": "4fa82680-eb31-4385-dd1b-c7ca3ea2c509"
      },
      "execution_count": 32,
      "outputs": [
        {
          "output_type": "stream",
          "name": "stdout",
          "text": [
            "                  2019    2018    2017      2016       2015          2014  \\\n",
            "PIB                NaN     NaN     NaN       NaN        NaN  1.597573e+04   \n",
            "Esperanza       72.161  71.979  71.943  72.05800  73.006000  7.285300e+01   \n",
            "Alfabetización     NaN     NaN     NaN  97.12709  96.605217           NaN   \n",
            "GNP                NaN     NaN     NaN       NaN        NaN  4.769339e+11   \n",
            "Mortalidad      24.200  24.200  24.200  24.20000  19.100000  1.800000e+01   \n",
            "\n",
            "                        2013          2012          2011          2010  \\\n",
            "PIB             1.243398e+04  1.293793e+04  1.087711e+04  1.369291e+04   \n",
            "Esperanza       7.319600e+01  7.303600e+01  7.291300e+01  7.289000e+01   \n",
            "Alfabetización           NaN           NaN  9.477022e+01           NaN   \n",
            "GNP             3.592624e+11  3.712082e+11  3.084931e+11  3.883414e+11   \n",
            "Mortalidad      1.760000e+01  1.730000e+01  1.720000e+01  1.710000e+01   \n",
            "\n",
            "                        2009          2008          2007          2006  \\\n",
            "PIB             1.164180e+04  1.131078e+04  8.369235e+03  6.769868e+03   \n",
            "Esperanza       7.257900e+01  7.243600e+01  7.305800e+01  7.274200e+01   \n",
            "Alfabetización  9.551199e+01           NaN  9.515464e+01           NaN   \n",
            "GNP             3.271231e+11  3.166328e+11  2.327951e+11  1.824744e+11   \n",
            "Mortalidad      1.710000e+01  1.720000e+01  1.750000e+01  1.790000e+01   \n",
            "\n",
            "                        2005          2004          2003          2002  \n",
            "PIB             5.456322e+03  4.287632e+03  3.243369e+03  3.667200e+03  \n",
            "Esperanza       7.278200e+01  7.251400e+01  7.194000e+01  7.266200e+01  \n",
            "Alfabetización           NaN           NaN           NaN           NaN  \n",
            "GNP             1.433133e+11  1.089623e+11  8.143295e+10  9.014425e+10  \n",
            "Mortalidad      1.850000e+01  1.910000e+01  1.980000e+01  2.030000e+01  \n"
          ]
        }
      ]
    }
  ]
}